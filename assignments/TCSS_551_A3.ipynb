{
  "nbformat": 4,
  "nbformat_minor": 0,
  "metadata": {
    "colab": {
      "name": "TCSS_551_A3.ipynb",
      "provenance": [],
      "collapsed_sections": [
        "oUqn4VvtZnG7",
        "GYJ8ab_scO0r",
        "ucbS2KsLkEkR",
        "hy6pgW2MrzSa"
      ],
      "toc_visible": true
    },
    "kernelspec": {
      "display_name": "Python 3",
      "language": "python",
      "name": "python3"
    },
    "language_info": {
      "codemirror_mode": {
        "name": "ipython",
        "version": 3
      },
      "file_extension": ".py",
      "mimetype": "text/x-python",
      "name": "python",
      "nbconvert_exporter": "python",
      "pygments_lexer": "ipython3",
      "version": "3.7.4"
    },
    "toc": {
      "colors": {
        "hover_highlight": "#DAA520",
        "navigate_num": "#000000",
        "navigate_text": "#333333",
        "running_highlight": "#FF0000",
        "selected_highlight": "#FFD700",
        "sidebar_border": "#EEEEEE",
        "wrapper_background": "#FFFFFF"
      },
      "moveMenuLeft": true,
      "nav_menu": {
        "height": "300px",
        "width": "252px"
      },
      "navigate_menu": true,
      "number_sections": true,
      "sideBar": true,
      "threshold": 4,
      "toc_cell": false,
      "toc_section_display": "block",
      "toc_window_display": false,
      "widenNotebook": false
    }
  },
  "cells": [
    {
      "cell_type": "markdown",
      "metadata": {
        "id": "RW82b4ZNIVV6"
      },
      "source": [
        "# Assignment 3\n",
        "\n",
        "This assignment is meant to help you familiarize yourself with basic **Prediction**.\n",
        "\n",
        "To receive credit, answer all questions correctly and submit to Canvas before the deadline.\n",
        "\n",
        "**This assignment is due Thursday, April 29 at 11:59 PM.**\n",
        "\n",
        "**NOTE: All instructions deserve 0 point. However, -5 for each part if you do not follow, run, and understand.**"
      ]
    },
    {
      "cell_type": "markdown",
      "metadata": {
        "id": "2ubOP7WIyJaj"
      },
      "source": [
        "**YOUR FULL NAME (1 POINT)**: Nazim Zerrouki"
      ]
    },
    {
      "cell_type": "markdown",
      "metadata": {
        "id": "-iX4wlC7qBM4"
      },
      "source": [
        "## Collaboration Policy\n",
        "\n",
        "Data science is a collaborative activity. While you may talk with others about the assignment, we ask that you **write your solutions individually**. If you do discuss the assignment with others, please **include their names** below."
      ]
    },
    {
      "cell_type": "markdown",
      "metadata": {
        "id": "uAZav0BiqBM5"
      },
      "source": [
        "**Collaborators**: Xiuxiang Wu"
      ]
    },
    {
      "cell_type": "code",
      "metadata": {
        "id": "Sl5QQmtggg2O"
      },
      "source": [
        "# import necessary packages\n",
        "import numpy as np\n",
        "import matplotlib.pyplot as plt\n",
        "import pandas as pd\n",
        "import seaborn as sns\n",
        "plt.style.use('fivethirtyeight')\n",
        "%matplotlib inline"
      ],
      "execution_count": 1,
      "outputs": []
    },
    {
      "cell_type": "markdown",
      "metadata": {
        "id": "NOip2C120Vs9"
      },
      "source": [
        "# Part I: Modeling and Loss Functions\n",
        "\n",
        "In this section, you will:\n",
        "\n",
        "1. Define loss functions and find the arguments that minimize them.\n",
        "2. Explore different statistics and techniques.\n",
        "\n",
        "## Constant Model\n",
        "\n",
        "In the modeling context, $y$ represents our \"true observations\", which are typically what we are trying to model. $\\hat{y}$ represents our prediction (for any model). First, we explore the constant model, where our prediction for any input is a constant:\n",
        "\n",
        "$$\\Large\n",
        "\\hat{y} = \\theta\n",
        "$$\n",
        "\n",
        "$\\theta$ is what we call a **parameter**. Our goal is to find the value of our parameters that **best fit our data**. We represent the optimal parameter(s) with $\\hat{\\theta}$.\n",
        "\n",
        "We call the constant model a **summary statistic**, as we are determining one number that best \"summarizes\" a set of values.\n",
        "\n",
        "\n",
        "## Loss function\n",
        "\n",
        "Loss functions are what we use to determine the optimal parameter(s) for our model.\n",
        "\n",
        "A loss function is a measure of how well a model is able to predict the expected outcome. In other words, it measures the deviations of the predicted values from the observed values. We will implement the squared loss and absolute loss functions.  \n",
        "\n",
        "In the formulations below $y$ represents the observed values and $\\hat{y}$ stands for our prediction.\n",
        "\n",
        "1. **Squared Loss** (also known as the $L_2$ loss, pronounced \"ell-two\"):\n",
        "\n",
        "$$\\Large L(y, \\hat{y}) = (y - \\hat{y})^2$$\n",
        "\n",
        "2. **Absolute Loss** (also known as the $L_1$ loss, pronounced \"ell-one\"):\n",
        "\n",
        "$$\\Large L\\left(y, \\hat{y} \\right) = \\left| y - \\hat{y} \\right|$$\n",
        "\n",
        "Since we are using the constant model $\\hat{y} = \\theta$, we will instead refer to these loss functions as being $(y - \\theta)^2$ and $|y - \\theta|$."
      ]
    },
    {
      "cell_type": "markdown",
      "metadata": {
        "id": "UgrHxzxOCOh9"
      },
      "source": [
        "## Question 1.a (2 points)\n",
        "\n",
        "Based on the comments below, implement the squared loss function. **Your answer should not use any loops**.\n",
        "\n"
      ]
    },
    {
      "cell_type": "code",
      "metadata": {
        "id": "raLmzyNyC3xE"
      },
      "source": [
        "def squared_loss(y_obs, theta):\n",
        "    \"\"\"\n",
        "    Calculate the squared loss of the observed data and a summary statistic.\n",
        "    \n",
        "    Parameters\n",
        "    ------------\n",
        "    y_obs: an observed value\n",
        "    theta : some constant representing a summary statistic\n",
        "    \n",
        "    Returns\n",
        "    ------------\n",
        "    The squared loss between the observation and the summary statistic.\n",
        "    \"\"\"\n",
        "    # type your code here\n",
        "    np_obs = y_obs * np.zeros((theta.shape))\n",
        "    return np.subtract(y_obs, theta) ** 2"
      ],
      "execution_count": 2,
      "outputs": []
    },
    {
      "cell_type": "markdown",
      "metadata": {
        "id": "OOQSMAJLDX3V"
      },
      "source": [
        "## Question 1.b (3 points)\n",
        "\n",
        "Plotting the Squared Loss: Let us now consider the case where `y_obs` equals 10. For arbitrary values of `theta`, plot the squared loss using the function above."
      ]
    },
    {
      "cell_type": "code",
      "metadata": {
        "colab": {
          "base_uri": "https://localhost:8080/",
          "height": 296
        },
        "id": "HZieZmmmD46g",
        "outputId": "de000e9b-72bc-4b5d-dc18-add026b59529"
      },
      "source": [
        "y_obs = 10\n",
        "theta_values = np.linspace(0, 20, 100) # some arbitrary values of theta\n",
        "# type your code here\n",
        "plt.plot(theta_values, squared_loss(y_obs, theta_values))\n",
        "plt.xlabel(r'$\\theta$')\n",
        "plt.ylabel('L2 loss')\n",
        "plt.title(r'L2 Loss for different values of $\\theta$'); # Do not want to show an additional line of Text, use \";\""
      ],
      "execution_count": 3,
      "outputs": [
        {
          "output_type": "display_data",
          "data": {
            "image/png": "[encoded data removed]",
            "text/plain": [
              "<Figure size 432x288 with 1 Axes>"
            ]
          },
          "metadata": {
            "tags": [],
            "needs_background": "light"
          }
        }
      ]
    },
    {
      "cell_type": "markdown",
      "metadata": {
        "id": "4omQTRNyFjn6"
      },
      "source": [
        "## Mean Squared Error for the `Tips` Data\n",
        "\n",
        "Let's apply our knowledge to some real world data. In this section, you will try to find the best statistic $\\theta$ to represent the tips given in an array. The simple procedure you will use includes constructing the mean squared error (MSE) for the `tips` data and finding the value that minimizes the MSE. Below you are given an array of tips from a restaurant.\n",
        "\n",
        "\n",
        "\n"
      ]
    },
    {
      "cell_type": "code",
      "metadata": {
        "id": "Vx-3MBhYGVyH"
      },
      "source": [
        "# Run this cell, do not change anything\n",
        "df = sns.load_dataset(\"tips\")\n",
        "tips = np.array(df['tip']) # array of observed tips"
      ],
      "execution_count": 4,
      "outputs": []
    },
    {
      "cell_type": "markdown",
      "metadata": {
        "id": "2tM93xagGuYA"
      },
      "source": [
        "## Question 1.c (4 points)\n",
        "\n",
        "Now, we can extend the above loss function to an entire dataset by taking the average. Let the dataset $\\mathcal{D}$ be the set of observations:\n",
        "\n",
        "$$\\Large\\mathcal{D} = \\{y_1, \\ldots, y_n\\}$$\n",
        "\n",
        "where $y_i$ is the $i^{th}$ tip.\n",
        "\n",
        "We can define the average loss over the dataset as:\n",
        "\n",
        "$$\\Large\n",
        "R\\left(\\theta\\right) = \\frac{1}{n} \\sum_{i=1}^n L(y_i, \\theta)\n",
        "$$\n",
        "\n",
        "Define the `mean_squared_error` function which computes the mean squared error given the data and a value for `theta`. Assume that `data` will be a numpy array. **You do NOT need to use the `squared_loss` function in 1.a. Your answer should not use any loops.**"
      ]
    },
    {
      "cell_type": "code",
      "metadata": {
        "colab": {
          "base_uri": "https://localhost:8080/"
        },
        "id": "362Xf_HaHNhF",
        "outputId": "527c8051-c608-45a3-f0d7-bbb58d83730b"
      },
      "source": [
        "def mean_squared_error(theta, data):\n",
        "    # type your code here\n",
        "    return np.mean(np.subtract(data, theta) ** 2) \n",
        "\n",
        "mean_squared_error(5.3, tips)"
      ],
      "execution_count": 5,
      "outputs": [
        {
          "output_type": "execute_result",
          "data": {
            "text/plain": [
              "7.20452950819672"
            ]
          },
          "metadata": {
            "tags": []
          },
          "execution_count": 5
        }
      ]
    },
    {
      "cell_type": "markdown",
      "metadata": {
        "id": "F4rHy55dOWXe"
      },
      "source": [
        "In the cell below  we will plot the mean squared error for different theta values."
      ]
    },
    {
      "cell_type": "code",
      "metadata": {
        "colab": {
          "base_uri": "https://localhost:8080/",
          "height": 296
        },
        "id": "VNesUVC7OaPT",
        "outputId": "1f8519a9-dfcc-4ba1-f7ed-9de8c731949a"
      },
      "source": [
        "theta_values = np.linspace(0, 6, 100)\n",
        "mse = [mean_squared_error(theta, tips) for theta in theta_values]\n",
        "plt.plot(theta_values, mse)\n",
        "plt.xlabel(r'$\\theta$')\n",
        "plt.ylabel('L2 loss')\n",
        "plt.title(r'L2 Loss for different values of $\\theta$');"
      ],
      "execution_count": 6,
      "outputs": [
        {
          "output_type": "display_data",
          "data": {
            "image/png": "[encoded data removed]",
            "text/plain": [
              "<Figure size 432x288 with 1 Axes>"
            ]
          },
          "metadata": {
            "tags": [],
            "needs_background": "light"
          }
        }
      ]
    },
    {
      "cell_type": "markdown",
      "metadata": {
        "id": "9-toEaCGQGNf"
      },
      "source": [
        "## Question 1.d (1 point)\n",
        "\n",
        "From the above plot, what is the value of `theta` that minimizes the L2 loss. **Round your answer to the nearest integer.**"
      ]
    },
    {
      "cell_type": "code",
      "metadata": {
        "colab": {
          "base_uri": "https://localhost:8080/"
        },
        "id": "dQzulvaJQ8Ny",
        "outputId": "705546fe-08ed-43aa-b034-e18eb6275173"
      },
      "source": [
        "mse_observed_theta = 3 # type your answer here\n",
        "mse_observed_theta"
      ],
      "execution_count": 7,
      "outputs": [
        {
          "output_type": "execute_result",
          "data": {
            "text/plain": [
              "3"
            ]
          },
          "metadata": {
            "tags": []
          },
          "execution_count": 7
        }
      ]
    },
    {
      "cell_type": "markdown",
      "metadata": {
        "id": "jeiRnwtxRWMd"
      },
      "source": [
        "## How to find the exact value of `theta` that minimizes the loss?\n",
        "\n",
        "The cell below plots some arbitrary 4th degree polynomial function. \n",
        "\n"
      ]
    },
    {
      "cell_type": "code",
      "metadata": {
        "colab": {
          "base_uri": "https://localhost:8080/",
          "height": 262
        },
        "id": "PlxlzaxMRxsx",
        "outputId": "2952635e-21b9-4c15-f6fb-aeb34d7b4d47"
      },
      "source": [
        "x_values = np.linspace(-4, 2.5, 100)\n",
        "\n",
        "def fx(x):\n",
        "    return 0.1 * x**4 + 0.2 * x**3 + 0.2 * x**2 + 1 * x + 10\n",
        "\n",
        "plt.plot(x_values, fx(x_values));"
      ],
      "execution_count": 8,
      "outputs": [
        {
          "output_type": "display_data",
          "data": {
            "image/png": "[encoded data removed]",
            "text/plain": [
              "<Figure size 432x288 with 1 Axes>"
            ]
          },
          "metadata": {
            "tags": [],
            "needs_background": "light"
          }
        }
      ]
    },
    {
      "cell_type": "markdown",
      "metadata": {
        "id": "zmxnntHfSDcs"
      },
      "source": [
        "By looking at the plot, we see that the x which minimizes the function is slightly larger than -2. What if we want the exact value? We will demonstrate grabbing the minimum value and the optimal `x` in the following cell.\n",
        "\n",
        "The function `minimize` from [`scipy.optimize`](https://docs.scipy.org/doc/scipy/reference/generated/scipy.optimize.minimize.html) will attempt to minimize any function you throw at it.\n",
        "\n",
        "Try running the cell below, and you will see that `minimize` seems to get the answer correct."
      ]
    },
    {
      "cell_type": "code",
      "metadata": {
        "colab": {
          "base_uri": "https://localhost:8080/"
        },
        "id": "VSpFF423Scjz",
        "outputId": "9dfd111e-159d-4033-8703-d95050c52c9a"
      },
      "source": [
        "from scipy.optimize import minimize\n",
        "minimize(fx, x0 = 1.1)"
      ],
      "execution_count": 9,
      "outputs": [
        {
          "output_type": "execute_result",
          "data": {
            "text/plain": [
              "      fun: 8.728505719866614\n",
              " hess_inv: array([[0.50884886]])\n",
              "      jac: array([1.1920929e-07])\n",
              "  message: 'Optimization terminated successfully.'\n",
              "     nfev: 24\n",
              "      nit: 6\n",
              "     njev: 8\n",
              "   status: 0\n",
              "  success: True\n",
              "        x: array([-1.74682779])"
            ]
          },
          "metadata": {
            "tags": []
          },
          "execution_count": 9
        }
      ]
    },
    {
      "cell_type": "markdown",
      "metadata": {
        "id": "EphxGqf6SxEA"
      },
      "source": [
        "The `fun` value is the minimum value of the function. The `x` is the x which minimizes the function. We can index into the object returned by `minimize` to get these values. We have to add the additional `[0]` at the end because the minimizing x is returned as an array, but this is not necessarily the case for other attributes (i.e. `fun`). The reason for this is that `minimize` can also minimize multivariable functions."
      ]
    },
    {
      "cell_type": "code",
      "metadata": {
        "colab": {
          "base_uri": "https://localhost:8080/"
        },
        "id": "18u7w8TRTBXC",
        "outputId": "d4101836-7e8e-4e9b-abcd-2b63f90b4051"
      },
      "source": [
        "minimization_result_for_fx = minimize(fx, x0 = 0)\n",
        "min_of_fx = minimization_result_for_fx['fun']\n",
        "x_which_minimizes_fx = minimization_result_for_fx['x'][0]\n",
        "min_of_fx, x_which_minimizes_fx"
      ],
      "execution_count": 10,
      "outputs": [
        {
          "output_type": "execute_result",
          "data": {
            "text/plain": [
              "(8.728505719868085, -1.7468265839690909)"
            ]
          },
          "metadata": {
            "tags": []
          },
          "execution_count": 10
        }
      ]
    },
    {
      "cell_type": "markdown",
      "metadata": {
        "id": "HjeMhLzzTUo9"
      },
      "source": [
        "The parameter `x0` that we passed to the `minimize` function is where the `minimize` function starts looking as it tries to find the minimum. For example, above, `minimize` started its search at x = 1.1 because that's where we told it to start. For the function above, it doesn't really matter what x we start at because the function is nice and has only a single local minimum. More technically, the function is nice because it is [convex](https://en.wikipedia.org/wiki/Convex_function).\n",
        "\n",
        "`minimize` isn't perfect. For example, if we give it a function with many valleys (also known as local minima) it can get stuck. For example, consider the function below:"
      ]
    },
    {
      "cell_type": "code",
      "metadata": {
        "colab": {
          "base_uri": "https://localhost:8080/",
          "height": 262
        },
        "id": "3yZEdy9DTz4R",
        "outputId": "d81af695-57ce-4bf1-fe68-2f5d44e8c699"
      },
      "source": [
        "w_values = np.linspace(-2, 10, 100)\n",
        "\n",
        "def fw(w):\n",
        "    return 0.1 * w**4 - 1.5*w**3 + 6 * w **2 - 1 * w + 10\n",
        "\n",
        "plt.plot(w_values, fw(w_values));"
      ],
      "execution_count": 11,
      "outputs": [
        {
          "output_type": "display_data",
          "data": {
            "image/png": "[encoded data removed]",
            "text/plain": [
              "<Figure size 432x288 with 1 Axes>"
            ]
          },
          "metadata": {
            "tags": [],
            "needs_background": "light"
          }
        }
      ]
    },
    {
      "cell_type": "markdown",
      "metadata": {
        "id": "2aMm-GguT2AF"
      },
      "source": [
        "If we start the minimization at w = 6.5, we'll get stuck in the local minimum at w = 7.03. Note that no matter what your actual variable is called in your function, the `minimize` routine still calls the starting point `x0`."
      ]
    },
    {
      "cell_type": "code",
      "metadata": {
        "colab": {
          "base_uri": "https://localhost:8080/"
        },
        "id": "tyD3dQIRUAGI",
        "outputId": "ce892a2d-b231-4f7a-dac0-63a3c66e90c9"
      },
      "source": [
        "minimize(fw, x0 = 6.5)"
      ],
      "execution_count": 12,
      "outputs": [
        {
          "output_type": "execute_result",
          "data": {
            "text/plain": [
              "      fun: 22.594302881719713\n",
              " hess_inv: array([[0.12308018]])\n",
              "      jac: array([-3.81469727e-06])\n",
              "  message: 'Optimization terminated successfully.'\n",
              "     nfev: 18\n",
              "      nit: 4\n",
              "     njev: 6\n",
              "   status: 0\n",
              "  success: True\n",
              "        x: array([7.03774624])"
            ]
          },
          "metadata": {
            "tags": []
          },
          "execution_count": 12
        }
      ]
    },
    {
      "cell_type": "markdown",
      "metadata": {
        "id": "d9Ido7AtUNmB"
      },
      "source": [
        "## Question 1.e (5 points)\n",
        "\n",
        "Using the `minimize` function, find the value of `theta` that minimizes the mean squared error for our tips dataset. In other words, you want to find the exact minimum of the plot that you saw in question 1.c.\n",
        "\n",
        "Assign `min_scipy` to the value of `theta` that minimizes the MSE according to the `minimize` function.\n",
        "\n",
        "Hint: You can't pass your `mean_squared_error` function to `minimize` because `mean_squared_error` has two variables: `theta` and `data`. `minimize` will get confused because it thinks it needs to minimize by picking the best `theta` and best `data` values. We only want it to play around with `theta`.\n",
        "\n",
        "In other words, you need to pass a function of one variable `theta` to the `minimize` function, which means you'll need to create a new function of only ONE variable `theta`. This is very simple, but also very tricky when you do this for the first time. Make sure to ask for help if you get stuck."
      ]
    },
    {
      "cell_type": "code",
      "metadata": {
        "colab": {
          "base_uri": "https://localhost:8080/"
        },
        "id": "HoHqt-P5VAuh",
        "outputId": "7679330d-34ce-4a5c-cf05-454af96abbf8"
      },
      "source": [
        "# define your function here\n",
        "def f_theta(theta, data=tips):\n",
        "  return np.mean(np.array([(theta - data) ** 2]))\n",
        "# use the following code to minimize\n",
        "min_scipy = minimize(f_theta, x0=0.0)['x'][0] \n",
        "\n",
        "min_scipy"
      ],
      "execution_count": 13,
      "outputs": [
        {
          "output_type": "execute_result",
          "data": {
            "text/plain": [
              "2.9982787346405537"
            ]
          },
          "metadata": {
            "tags": []
          },
          "execution_count": 13
        }
      ]
    },
    {
      "cell_type": "markdown",
      "metadata": {
        "id": "G4pN7_WSX1Er"
      },
      "source": [
        "## Question 1.f (2 points)\n",
        "\n",
        "From lecture we know that the value of `theta` that minimizes the mean squared error is the average of the data for the constant model. Assign `min_computed` to the mean of the tips dataset, and compare this to the values you observed in questions 1.d and 1.e."
      ]
    },
    {
      "cell_type": "code",
      "metadata": {
        "colab": {
          "base_uri": "https://localhost:8080/"
        },
        "id": "dJwslkN7YKtG",
        "outputId": "4eb10e6e-167e-488c-a43c-3a0e4800a434"
      },
      "source": [
        "min_computed = np.mean(tips) # type your code here\n",
        "min_computed"
      ],
      "execution_count": 14,
      "outputs": [
        {
          "output_type": "execute_result",
          "data": {
            "text/plain": [
              "2.99827868852459"
            ]
          },
          "metadata": {
            "tags": []
          },
          "execution_count": 14
        }
      ]
    },
    {
      "cell_type": "markdown",
      "metadata": {
        "id": "Tf52x-PXYx2m"
      },
      "source": [
        "The reason these don't match past the first 5 decimal places is due to the fact that `scipy.minimize` is a numerical method, meaning it approximates the optimal value using some sort of iterative procedure. You shouldn't worry about the tiny differences in solutions from different runs of `minimize`.\n",
        "\n",
        "In summary, we've now seen 3 ways to find the summary statistic `theta` that minimizes the mean squared error:\n",
        "1. Create a plot of the MSE for the given data array vs. `theta` and eyeball the minimizing `theta`.\n",
        "2. Create a function that returns the MSE for a specific data array as a function of `theta` and use the scipy `minimize` function to find the exact `theta` which minimizes this function.\n",
        "3. Simply compute the `mean` of the data array.\n",
        "\n",
        "At this point, you've hopefully convinced yourself that the `mean` of the data is the summary statistic that minimizes mean squared error."
      ]
    },
    {
      "cell_type": "markdown",
      "metadata": {
        "id": "oUqn4VvtZnG7"
      },
      "source": [
        "##  Mean Absolute Error\n",
        "\n",
        "In this section, you will follow the same steps as above but for the absolute loss function. Absolute loss is defined as:\n",
        "\n",
        "$$\\Large\n",
        "L\\left(y, \\theta \\right) = \\left| y - \\theta \\right|\n",
        "$$"
      ]
    },
    {
      "cell_type": "markdown",
      "metadata": {
        "id": "rwyhEG2faNKd"
      },
      "source": [
        "## Question 1.g (2 points)\n",
        "\n",
        "In the cell below, define the function `abs_loss` which returns the absolute loss given a value of `theta` and `y_obs`. "
      ]
    },
    {
      "cell_type": "code",
      "metadata": {
        "id": "5Bi6ZG8SaLvX"
      },
      "source": [
        "def abs_loss(theta, y_obs):\n",
        "    # type your code here\n",
        "    return abs(y_obs - theta)"
      ],
      "execution_count": 15,
      "outputs": []
    },
    {
      "cell_type": "markdown",
      "metadata": {
        "id": "HQ_qQfnpanva"
      },
      "source": [
        "In the cell below, we will plot the absolute loss for different values of `theta` given that `y_obs = 10`."
      ]
    },
    {
      "cell_type": "code",
      "metadata": {
        "colab": {
          "base_uri": "https://localhost:8080/",
          "height": 296
        },
        "id": "vtMTla_saFL2",
        "outputId": "90abb038-28c0-4308-864f-a612cbb23237"
      },
      "source": [
        "y_obs = 10\n",
        "theta_values = np.linspace(0, 20, 100) # some arbitrary values of theta\n",
        "plt.plot(theta_values, abs_loss(theta_values, y_obs))\n",
        "plt.xlabel(r'$\\theta$')\n",
        "plt.ylabel('L1 loss')\n",
        "plt.title('L1 Loss for different values of theta');"
      ],
      "execution_count": 16,
      "outputs": [
        {
          "output_type": "display_data",
          "data": {
            "image/png": "[encoded data removed]",
            "text/plain": [
              "<Figure size 432x288 with 1 Axes>"
            ]
          },
          "metadata": {
            "tags": [],
            "needs_background": "light"
          }
        }
      ]
    },
    {
      "cell_type": "markdown",
      "metadata": {
        "id": "GYJ8ab_scO0r"
      },
      "source": [
        "## Mean Absolute Error for the `Tips` Data"
      ]
    },
    {
      "cell_type": "markdown",
      "metadata": {
        "id": "R-7BDUEOcRpy"
      },
      "source": [
        "## Question 1.h (4 points)\n",
        "\n",
        "Define the `mean_absolute_error` function which computes the mean absolute error (MAE) given the data and a value for `theta`. Assume that `data` will be a numpy array. **You do NOT need to use the `abs_loss` function in 1.g. Your answer should not use any loops.**"
      ]
    },
    {
      "cell_type": "code",
      "metadata": {
        "colab": {
          "base_uri": "https://localhost:8080/"
        },
        "id": "t0a9kT3CckuE",
        "outputId": "727d616b-52f6-43e7-eaa4-5878d43bddff"
      },
      "source": [
        "def mean_absolute_error(theta, data):\n",
        "    # type your code here\n",
        "    return np.mean(abs(theta - data))\n",
        "\n",
        "mean_absolute_error(5.3, tips)"
      ],
      "execution_count": 17,
      "outputs": [
        {
          "output_type": "execute_result",
          "data": {
            "text/plain": [
              "2.4527868852459016"
            ]
          },
          "metadata": {
            "tags": []
          },
          "execution_count": 17
        }
      ]
    },
    {
      "cell_type": "markdown",
      "metadata": {
        "id": "hgc7Nqvrdyc0"
      },
      "source": [
        "We will plot the mean absolute error for different theta values on the tips dataset."
      ]
    },
    {
      "cell_type": "code",
      "metadata": {
        "id": "f5QzDTD-d010",
        "colab": {
          "base_uri": "https://localhost:8080/",
          "height": 296
        },
        "outputId": "507516c2-4367-4a5f-9ff4-13c911e69f99"
      },
      "source": [
        "theta_values = np.linspace(0, 6, 100)\n",
        "mae = [mean_absolute_error(theta, tips) for theta in theta_values]\n",
        "plt.plot(theta_values, mae)\n",
        "plt.xlabel(r'$\\theta$')\n",
        "plt.ylabel('L1 loss')\n",
        "plt.title(r'L1 Loss for different values of $\\theta$');"
      ],
      "execution_count": 18,
      "outputs": [
        {
          "output_type": "display_data",
          "data": {
            "image/png": "[encoded data removed]",
            "text/plain": [
              "<Figure size 432x288 with 1 Axes>"
            ]
          },
          "metadata": {
            "tags": [],
            "needs_background": "light"
          }
        }
      ]
    },
    {
      "cell_type": "markdown",
      "metadata": {
        "id": "ZsmUcL0NeJt0"
      },
      "source": [
        "You should see that the plot looks somewhat similar to the plot of the mean squared error. Try to identify any key differences you observe and write them down below. This might be more fun with a partner. Note, your answer will not be graded, so don't worry about writing a detailed answer. \n",
        "\n",
        "**Note: 0 point, -5 if you do not answer**"
      ]
    },
    {
      "cell_type": "markdown",
      "metadata": {
        "id": "__33j62veY_Y"
      },
      "source": [
        "*The first graph is not parabolic, it has a symmetric linear shape in which the left shape of the graph is the inverse of the right shape of the graph. This is because we are computing the absolute value._*\n",
        "\n",
        "*The second graph is very similar once we take the average. The only difference is that it is not perfectly symmetrical.*"
      ]
    },
    {
      "cell_type": "markdown",
      "metadata": {
        "id": "f-wlK7VseeMD"
      },
      "source": [
        "To minimize the function, let's zoom in closer to the minimizing `theta`. We will plot the mean absolute error again using the given `theta_values` below."
      ]
    },
    {
      "cell_type": "code",
      "metadata": {
        "id": "1QOBrPE2eoCW",
        "colab": {
          "base_uri": "https://localhost:8080/",
          "height": 296
        },
        "outputId": "582dee23-b4b6-4811-ba75-a9a306ddf758"
      },
      "source": [
        "theta_values = np.linspace(2.7, 3.02, 100)\n",
        "mae = [mean_absolute_error(theta, tips) for theta in theta_values]\n",
        "plt.plot(theta_values, mae)\n",
        "plt.xlabel(r'$\\theta$')\n",
        "plt.ylabel('L1 Loss')\n",
        "plt.title(r'L1 Loss for different values of $\\theta$');"
      ],
      "execution_count": 19,
      "outputs": [
        {
          "output_type": "display_data",
          "data": {
            "image/png": "[encoded data removed]",
            "text/plain": [
              "<Figure size 432x288 with 1 Axes>"
            ]
          },
          "metadata": {
            "tags": [],
            "needs_background": "light"
          }
        }
      ]
    },
    {
      "cell_type": "markdown",
      "metadata": {
        "id": "gJa65Ruxfgp4"
      },
      "source": [
        "## Question 1.i (1 point)\n",
        "\n",
        "This time, observe that the function is piecewise linear and has a slope of zero near its minimum. Because of the large flat region at the minimum, there are multiple values of `theta` that minimize the L1 loss.\n",
        "\n",
        "Give a `theta` rounded to the nearest tenth that minimizes L1 loss. By \"rounded to the nearest tenth\" we mean you'd say 7.6 instead of 7.55."
      ]
    },
    {
      "cell_type": "code",
      "metadata": {
        "id": "ObHDXSbafoXW",
        "colab": {
          "base_uri": "https://localhost:8080/"
        },
        "outputId": "8c53bfb1-31c4-421a-96ee-1a678e92e7fe"
      },
      "source": [
        "mae_observed_theta = 2.9 # type your observation here\n",
        "mae_observed_theta"
      ],
      "execution_count": 20,
      "outputs": [
        {
          "output_type": "execute_result",
          "data": {
            "text/plain": [
              "2.9"
            ]
          },
          "metadata": {
            "tags": []
          },
          "execution_count": 20
        }
      ]
    },
    {
      "cell_type": "markdown",
      "metadata": {
        "id": "yw5ZWXTUgAQW"
      },
      "source": [
        "## Question 1.j (5 points)\n",
        "\n",
        "As before, we will use the `minimize` function to find a solution. Note that we will be minimizing the mean absolute error for our tips dataset. Assign `min_abs_scipy` to the value of `theta` that minimizes the MAE according to the `minimize` function for the `tips` data. Note: Depending on the `x0` value you specify, you will get different results! \n",
        "\n",
        "Extra: Try various `x0` values and record the different outputs you get from `minimize`. Use the plot you created above to verify that these are all valid minimizing statistics."
      ]
    },
    {
      "cell_type": "code",
      "metadata": {
        "id": "MNANZ9ywgWlK",
        "colab": {
          "base_uri": "https://localhost:8080/"
        },
        "outputId": "f5dc4a9e-cd7e-473d-8dca-2189b5a1e665"
      },
      "source": [
        "# define your function here\n",
        "def f_theta(theta, data=tips):\n",
        "  return np.mean(np.array([abs((np.subtract(data, theta)))])) \n",
        "# use the code below to minimize\n",
        "min_abs_scipy = minimize(f_theta, x0=0.0)['x'][0]\n",
        "\n",
        "min_abs_scipy"
      ],
      "execution_count": 21,
      "outputs": [
        {
          "output_type": "execute_result",
          "data": {
            "text/plain": [
              "2.891549525263021"
            ]
          },
          "metadata": {
            "tags": []
          },
          "execution_count": 21
        }
      ]
    },
    {
      "cell_type": "markdown",
      "metadata": {
        "id": "MreWXVuMg_b-"
      },
      "source": [
        "Just like the MSE, there are three ways to compute the summary statistic `theta` that minimizes the MAE:\n",
        "1. Create a plot of the MAE for the given data array vs. `theta` and eyeball a minimizing `theta`.\n",
        "2. Create a function that returns the MAE for a specific data array as a function of `theta` and use the scipy `minimize` function to find an exact `theta` which minimizes this function.\n",
        "3. Simply compute the **??????** of the data array.\n",
        "\n",
        "Try to figure out what to substitute in for the **??????** above. To this, try out various statistics functions provided by `np`. A list and documentation is available at [https://docs.scipy.org/doc/numpy/reference/routines.statistics.html](https://docs.scipy.org/doc/numpy/reference/routines.statistics.html)."
      ]
    },
    {
      "cell_type": "markdown",
      "metadata": {
        "id": "96Rx_W3Whe3V"
      },
      "source": [
        "## Question 1.k (2 points)\n",
        "\n",
        "Assign `min_abs_computed` to the correct summary statistic using method `#3` outlined above."
      ]
    },
    {
      "cell_type": "code",
      "metadata": {
        "id": "pJGpTarWhpme",
        "colab": {
          "base_uri": "https://localhost:8080/"
        },
        "outputId": "a5df74eb-6634-440e-8678-5a30972cba17"
      },
      "source": [
        "min_abs_computed = np.mean(tips) # type your code here\n",
        "min_abs_computed"
      ],
      "execution_count": 22,
      "outputs": [
        {
          "output_type": "execute_result",
          "data": {
            "text/plain": [
              "2.99827868852459"
            ]
          },
          "metadata": {
            "tags": []
          },
          "execution_count": 22
        }
      ]
    },
    {
      "cell_type": "markdown",
      "metadata": {
        "id": "kFctlN5kidlg"
      },
      "source": [
        "In summary, you may observe three key differences between the plots of the MSE and MAE.\n",
        "\n",
        "1. The minimizing $\\theta$ is different.\n",
        "2. The plot for MAE increases linearly instead of quadratically as we move far away from the minimizing $\\theta$.\n",
        "3. The plot for MAE is piecewise linear instead of smooth. Each change in slope happens at the same $\\theta$ value as a data point in our dataset."
      ]
    },
    {
      "cell_type": "markdown",
      "metadata": {
        "id": "_Iv9JT65i4tG"
      },
      "source": [
        "# Part II: Simple Linear Regression\n",
        "\n",
        "In this section, we're interested in studying the **relationship between two variables**. Specifically, we're interested in the relationship between the `total_bill` column and `tip` column. Our goal will be to predict tip ($y$) from total_bill ($x$), i.e., we want to find values of $a$ and $b$ so that given $x$, predict $y$ as\n",
        "$$\\boxed{\\hat{y} = a + bx}$$\n",
        "We will now explore different ways to obtain the optimal values of $a, b$, called $\\hat{a}, \\hat{b}$, where $\\hat{y} = \\hat{a} + \\hat{b}x$.\n",
        "\n",
        "First, let's run `sns.lmplot`, which will both provide a scatterplot of tip vs total_bill and display the least-squares line of best fit. We will look into solving for the line of best fit in three different ways: manually using the formula from lecture, scipy.optimize, and scikit-learn."
      ]
    },
    {
      "cell_type": "code",
      "metadata": {
        "id": "IHEeq6Hrj9Vi",
        "colab": {
          "base_uri": "https://localhost:8080/",
          "height": 386
        },
        "outputId": "9ffb93ba-1797-48f9-f3b4-e2566d0e310a"
      },
      "source": [
        "sns.lmplot(data = df, x = \"total_bill\", y = \"tip\");"
      ],
      "execution_count": 23,
      "outputs": [
        {
          "output_type": "display_data",
          "data": {
            "image/png": "[encoded data removed]",
            "text/plain": [
              "<Figure size 360x360 with 1 Axes>"
            ]
          },
          "metadata": {
            "tags": [],
            "needs_background": "light"
          }
        }
      ]
    },
    {
      "cell_type": "markdown",
      "metadata": {
        "id": "ucbS2KsLkEkR"
      },
      "source": [
        "## Analytic Solution\n",
        "\n",
        "Using slides 36-37 of Lecture 4 and definitions of standard deviation and correlation in Lecture 5, we can derive the following expression for the line of best fit.\n",
        "\n",
        "$$\\hat{y_i} = \\bar{y} + r \\frac{SD(y)}{SD(x)} (x_i - \\bar{x})$$\n",
        "\n",
        "where $\\bar{x}$, $\\bar{y}$, $SD(x)$, $SD(y)$ correspond to the means and standard deviations of $x$ and $y$, respectively, and $r$ is the correlation coefficient."
      ]
    },
    {
      "cell_type": "markdown",
      "metadata": {
        "id": "KFSJBW4SnL--"
      },
      "source": [
        "## Question 2.a (5 points)\n",
        "\n",
        "Assign `x_bar`, `y_bar`, `std_x`, `std_y`, and `r`, such that they align with our dataset. Note: Make sure to use `np.std`, and not `<Series name>.std()`.\n",
        "\n",
        "- Hint: Remember, in our case, `y` is `tip`, and `x` is `total_bill`.\n",
        "- Hint: You may find `np.corrcoef` handy in computing `r`. Note that the output of `np.corrcoef` is a matrix, not a number, so you'll need to collect the correlation coefficient by indexing into the returned array."
      ]
    },
    {
      "cell_type": "code",
      "metadata": {
        "id": "D0BlgXE-napd",
        "colab": {
          "base_uri": "https://localhost:8080/"
        },
        "outputId": "0275fb04-e88a-4767-c0e1-a0da46c44e32"
      },
      "source": [
        "# type your code here\n",
        "total_bills = df['total_bill']\n",
        "x_bar = np.mean(total_bills)\n",
        "y_bar = np.mean(tips)\n",
        "std_x = np.std(total_bills) # np.sum([np.subtract(x, x_bar) ** 2 for x in total_bills])\n",
        "std_y = np.std(tips)\n",
        "r = np.corrcoef(total_bills, tips)[0][1]\n",
        "\n",
        "x_bar, y_bar, std_x, std_y, r"
      ],
      "execution_count": 24,
      "outputs": [
        {
          "output_type": "execute_result",
          "data": {
            "text/plain": [
              "(19.785942622950824,\n",
              " 2.99827868852459,\n",
              " 8.88415057777113,\n",
              " 1.3807999538298954,\n",
              " 0.6757341092113641)"
            ]
          },
          "metadata": {
            "tags": []
          },
          "execution_count": 24
        }
      ]
    },
    {
      "cell_type": "markdown",
      "metadata": {
        "id": "6W6LUrcdo_Nb"
      },
      "source": [
        "## Question 2.b (3 points)\n",
        "\n",
        "Now, set `b_hat` and `a_hat` correctly, in terms of the variables you defined above. \n",
        "\n",
        "- Hint: Try and match the slope and intercept in $\\hat{y_i} = \\hat{a} + \\hat{b}x_i$ to the slope and intercept in $\\hat{y_i} = \\bar{y} + r \\frac{SD(y)}{SD(x)} (x_i - \\bar{x})$.\n",
        "\n",
        "- Hint: You may want to define `a_hat` in terms of `b_hat` as in the lecture 4.\n"
      ]
    },
    {
      "cell_type": "code",
      "metadata": {
        "id": "9gPd_3VUpSl4",
        "colab": {
          "base_uri": "https://localhost:8080/"
        },
        "outputId": "e131d4c6-8b34-4000-a09e-97cbbe4fad22"
      },
      "source": [
        "# type your code here\n",
        "y_hat = y_bar + r * (std_y/std_x) * np.mean(np.array([np.subtract(x, x_bar) for x in total_bills]))\n",
        "b_hat = np.sum(np.array([(np.subtract(x, x_bar) * np.subtract(y, y_bar)) for x,y in zip(total_bills, tips)])) / np.sum(np.array([np.subtract(x, x_bar) ** 2 for x in total_bills]))\n",
        "a_hat = y_hat - b_hat * np.mean(np.array([x for x in total_bills])) \n",
        "\n",
        "a_hat, b_hat"
      ],
      "execution_count": 25,
      "outputs": [
        {
          "output_type": "execute_result",
          "data": {
            "text/plain": [
              "(0.9202696135546722, 0.1050245173843534)"
            ]
          },
          "metadata": {
            "tags": []
          },
          "execution_count": 25
        }
      ]
    },
    {
      "cell_type": "markdown",
      "metadata": {
        "id": "XTkPpfP0qKH5"
      },
      "source": [
        "## Question 2.c (2 points)\n",
        "\n",
        "Now, use `a_hat` and `b_hat` to predict the tip for a total bill amount of $20. Store your result in `predicted_20`."
      ]
    },
    {
      "cell_type": "code",
      "metadata": {
        "id": "CxoV5oEfqQ6D",
        "colab": {
          "base_uri": "https://localhost:8080/"
        },
        "outputId": "5ec9bdb2-8f37-4814-f325-58770e3527c9"
      },
      "source": [
        "predicted_20 = a_hat + b_hat * 20 # type your code here\n",
        "\n",
        "predicted_20"
      ],
      "execution_count": 26,
      "outputs": [
        {
          "output_type": "execute_result",
          "data": {
            "text/plain": [
              "3.02075996124174"
            ]
          },
          "metadata": {
            "tags": []
          },
          "execution_count": 26
        }
      ]
    },
    {
      "cell_type": "markdown",
      "metadata": {
        "id": "3rX5kZUgqkz-"
      },
      "source": [
        "## Question 2.d (1 point)\n",
        "\n",
        "Assign `regression` to be a `pd.Series` of predicted $y$ values (i.e., predicted `\"tip\"` values) for the observed total bills (`df[\"total_bill\"]`). You will need to use `a_hat`, `b_hat`, and `df[\"total_bill\"]`."
      ]
    },
    {
      "cell_type": "code",
      "metadata": {
        "id": "kOy0UytPq9UL",
        "colab": {
          "base_uri": "https://localhost:8080/"
        },
        "outputId": "b830051d-4028-4967-9f70-31044e3fe0a7"
      },
      "source": [
        "predicted_values = np.array([a_hat + b_hat * x for x in total_bills])\n",
        "regression = pd.Series(predicted_values) # type your code here\n",
        "\n",
        "regression"
      ],
      "execution_count": 27,
      "outputs": [
        {
          "output_type": "execute_result",
          "data": {
            "text/plain": [
              "0      2.704636\n",
              "1      2.006223\n",
              "2      3.126835\n",
              "3      3.407250\n",
              "4      3.502822\n",
              "         ...   \n",
              "239    3.969131\n",
              "240    3.774836\n",
              "241    3.301175\n",
              "242    2.791807\n",
              "243    2.892630\n",
              "Length: 244, dtype: float64"
            ]
          },
          "metadata": {
            "tags": []
          },
          "execution_count": 27
        }
      ]
    },
    {
      "cell_type": "markdown",
      "metadata": {
        "id": "Q8iblCX1rZME"
      },
      "source": [
        "If you defined `regression` correctly, the following cell will generate a scatter plot of `tip` vs. `total_bill`, along with the line of best fit you just computed."
      ]
    },
    {
      "cell_type": "code",
      "metadata": {
        "id": "L6mpJKWwrfJz",
        "colab": {
          "base_uri": "https://localhost:8080/",
          "height": 279
        },
        "outputId": "e702c5ee-3641-4161-f424-7e5d0eda2003"
      },
      "source": [
        "sns.scatterplot(x='total_bill', y='tip', data=df)\n",
        "plt.plot(df[\"total_bill\"], regression, color = 'r')\n",
        "plt.xlabel('total_bill')\n",
        "plt.ylabel('tip');"
      ],
      "execution_count": 28,
      "outputs": [
        {
          "output_type": "display_data",
          "data": {
            "image/png": "[encoded data removed]",
            "text/plain": [
              "<Figure size 432x288 with 1 Axes>"
            ]
          },
          "metadata": {
            "tags": [],
            "needs_background": "light"
          }
        }
      ]
    },
    {
      "cell_type": "markdown",
      "metadata": {
        "id": "hy6pgW2MrzSa"
      },
      "source": [
        "## Using Scipy Minimize\n",
        "\n",
        "`scipy.minimize` is a powerful method that can determine the optimal value of a variety of different functions. In practice, it is used to minimize functions that have no (or difficult to obtain) analytical solutions (it is a **numerical method**).\n",
        "\n",
        "It is overkill for our simple example, but nonetheless, we will show you how to use it, as it will become useful in your future."
      ]
    },
    {
      "cell_type": "markdown",
      "metadata": {
        "id": "yAj0Whm-s_nW"
      },
      "source": [
        "## Question 2.e (6 points)\n",
        "\n",
        "First, we define the function `l2_tip_risk` which computes the empirical risk for a given choice of `a` and `b`. That is, it computes\n",
        "\n",
        "$$R(a, b) = \\frac{1}{n} \\sum_{i = 1}^n(y_i - (a + b x_i))^2$$\n",
        "\n",
        "where, again, $x$ and $y$ refer to `\"total_bill\"` and `\"tip\"`.\n",
        "\n",
        "For your own purpose of testing, you may try out different `a` and `b` values. Observe that if you pick values close to the ones from the earlier part then the risk is lower. "
      ]
    },
    {
      "cell_type": "code",
      "metadata": {
        "id": "Bf8aJbRosff6",
        "colab": {
          "base_uri": "https://localhost:8080/"
        },
        "outputId": "d2e6a762-a1f6-4cb2-8216-d81dbd13d684"
      },
      "source": [
        "def l2_tip_risk(a, b):\n",
        "    \"\"\"Returns average l2 loss between regression line for intercept a \n",
        "       and slope b\"\"\"\n",
        "    # type your code here\n",
        "    return np.mean(np.array([(y - (a + b*x)) ** 2 for x,y in zip(total_bills, tips)]))\n",
        "\n",
        "l2_tip_risk(0.9, 0.1)"
      ],
      "execution_count": 29,
      "outputs": [
        {
          "output_type": "execute_result",
          "data": {
            "text/plain": [
              "1.052336405737705"
            ]
          },
          "metadata": {
            "tags": []
          },
          "execution_count": 29
        }
      ]
    },
    {
      "cell_type": "markdown",
      "metadata": {
        "id": "Q7s28f1ZuW_L"
      },
      "source": [
        "The `minimize` function can also minimize functions of multiple variables. There's one quirk, however, which is that the function has to accept its parameters as a single list.\n",
        "\n",
        "For example, consider the multivariate $f(u, v) = u^2 - 2 u v - 3 v + 2 v^2$. It turns out this function's minimum is at $(1.5, 1.5)$. To minimize this function, we create `f`."
      ]
    },
    {
      "cell_type": "code",
      "metadata": {
        "id": "rUpOPZVHu8Yu"
      },
      "source": [
        "def f(theta):\n",
        "    u = theta[0]\n",
        "    v = theta[1]\n",
        "    return u**2 - 2 * u * v - 3 * v + 2 * v**2"
      ],
      "execution_count": 30,
      "outputs": []
    },
    {
      "cell_type": "code",
      "metadata": {
        "id": "4FTyeiFHvKmf",
        "colab": {
          "base_uri": "https://localhost:8080/"
        },
        "outputId": "229bf14d-af4b-4a3a-8fb3-fe38f3dc1d15"
      },
      "source": [
        "from scipy.optimize import minimize\n",
        "minimize(f, x0 = [0.0, 0.0]) \n",
        "\n",
        "# As an aside: x0 is the \"initial guess\" for the optimal theta. Minimize iteratively updates theta."
      ],
      "execution_count": 31,
      "outputs": [
        {
          "output_type": "execute_result",
          "data": {
            "text/plain": [
              "      fun: -2.2499999999999947\n",
              " hess_inv: array([[0.99999996, 0.49999997],\n",
              "       [0.49999997, 0.49999999]])\n",
              "      jac: array([-5.96046448e-08, -5.96046448e-08])\n",
              "  message: 'Optimization terminated successfully.'\n",
              "     nfev: 16\n",
              "      nit: 3\n",
              "     njev: 4\n",
              "   status: 0\n",
              "  success: True\n",
              "        x: array([1.49999991, 1.49999993])"
            ]
          },
          "metadata": {
            "tags": []
          },
          "execution_count": 31
        }
      ]
    },
    {
      "cell_type": "markdown",
      "metadata": {
        "id": "XDJCqmRHvYKj"
      },
      "source": [
        "## Question 2.f (2 points)\n",
        "\n",
        "Define `l2_tip_risk_list` which is exactly like `l2_tip_risk` except that it takes in a single list of 2 variables rather than two separate variables. For example `l2_tip_risk_list([2, 3])` should return the same value as `l2_tip_risk(2, 3)`."
      ]
    },
    {
      "cell_type": "code",
      "metadata": {
        "id": "qrUI8NGOvesE",
        "colab": {
          "base_uri": "https://localhost:8080/"
        },
        "outputId": "355f7fb9-cdc8-44de-aa7c-7a9504f3996c"
      },
      "source": [
        "def l2_tip_risk_list(theta):\n",
        "    \"\"\"Returns average l2 loss between regression line for intercept a \n",
        "       and slope b\"\"\"\n",
        "    # type your code here\n",
        "    #if len(theta) == 1: return np.sum(np.array([(y - (theta[0] + 0*x)) ** 2 for x,y in zip(total_bills, tips)])) / len(tips)\n",
        "    return np.mean(np.array([(y - (theta[0] + theta[1]*x)) ** 2 for x,y in zip(total_bills, tips)]))\n",
        "\n",
        "l2_tip_risk_list([0.9, 0.1])"
      ],
      "execution_count": 32,
      "outputs": [
        {
          "output_type": "execute_result",
          "data": {
            "text/plain": [
              "1.052336405737705"
            ]
          },
          "metadata": {
            "tags": []
          },
          "execution_count": 32
        }
      ]
    },
    {
      "cell_type": "markdown",
      "metadata": {
        "id": "zLgvvUgqwNwt"
      },
      "source": [
        "## Question 2.g (4 points)\n",
        "\n",
        "Now, set `minimized` to the result of calling `minimize` to optimize this risk function.\n",
        "\n",
        "- Hint: Make sure to set `x0`."
      ]
    },
    {
      "cell_type": "code",
      "metadata": {
        "id": "fjLyqM3swSNs",
        "colab": {
          "base_uri": "https://localhost:8080/"
        },
        "outputId": "527ffc0c-b6f9-49e2-d937-5cd5d98d6215"
      },
      "source": [
        "minimized = minimize(l2_tip_risk_list, x0=[0, 0]) # type your code here\n",
        "\n",
        "minimized"
      ],
      "execution_count": 33,
      "outputs": [
        {
          "output_type": "execute_result",
          "data": {
            "text/plain": [
              "      fun: 1.0360194420114932\n",
              " hess_inv: array([[ 2.9799997 , -0.1253415 ],\n",
              "       [-0.1253415 ,  0.00633488]])\n",
              "      jac: array([-4.47034836e-08, -2.98023224e-08])\n",
              "  message: 'Optimization terminated successfully.'\n",
              "     nfev: 20\n",
              "      nit: 3\n",
              "     njev: 5\n",
              "   status: 0\n",
              "  success: True\n",
              "        x: array([0.92027035, 0.10502448])"
            ]
          },
          "metadata": {
            "tags": []
          },
          "execution_count": 33
        }
      ]
    },
    {
      "cell_type": "markdown",
      "metadata": {
        "id": "o_hJ8wGRxna3"
      },
      "source": [
        "The following cell will print out the values of `a_hat` and `b_hat` computed from both methods (\"manual\" refers to the technique in Analytic Solution). If you've done everything correctly, these should be very close to one another."
      ]
    },
    {
      "cell_type": "code",
      "metadata": {
        "id": "-wKbumtSxuB2",
        "colab": {
          "base_uri": "https://localhost:8080/"
        },
        "outputId": "da8f9511-30b5-4a81-c398-572e1ff9f543"
      },
      "source": [
        "print('a_hat_scipy: ', minimized['x'][0])\n",
        "print('a_hat_manual: ', a_hat)\n",
        "print('\\n')\n",
        "print('b_hat_scipy: ', minimized['x'][1])\n",
        "print('b_hat_manual: ', b_hat)"
      ],
      "execution_count": 34,
      "outputs": [
        {
          "output_type": "stream",
          "text": [
            "a_hat_scipy:  0.9202703450693733\n",
            "a_hat_manual:  0.9202696135546722\n",
            "\n",
            "\n",
            "b_hat_scipy:  0.10502447914641164\n",
            "b_hat_manual:  0.1050245173843534\n"
          ],
          "name": "stdout"
        }
      ]
    },
    {
      "cell_type": "markdown",
      "metadata": {
        "id": "on1xbe7_yYvm"
      },
      "source": [
        "## Using Scikit Learn\n",
        "\n",
        "Yet another way to fit a linear regression model is to use scikit learn, an industry standard package for machine learning applications. \n",
        "\n",
        "To do so, we first create a `LinearRegression` object."
      ]
    },
    {
      "cell_type": "code",
      "metadata": {
        "id": "e2ZMN049ygJn"
      },
      "source": [
        "from sklearn.linear_model import LinearRegression\n",
        "model = LinearRegression()"
      ],
      "execution_count": 35,
      "outputs": []
    },
    {
      "cell_type": "markdown",
      "metadata": {
        "id": "iom-jQ-Yynqn"
      },
      "source": [
        "Here, `model` is like a \"blank slate\" for a linear model. Now, we need to tell `model` to \"fit\" itself to the data. Essentially, this is doing exactly what you did in the previous part (creating a risk function and finding the parameters that minimize that risk).\n",
        "\n",
        "<i>Note: `X` needs to be a matrix (or DataFrame), as opposed to a single array (or Series). This is because `sklearn.linear_model` is robust enough to be used for multiple regression</i>"
      ]
    },
    {
      "cell_type": "code",
      "metadata": {
        "id": "jDmmxqBgy4aM",
        "colab": {
          "base_uri": "https://localhost:8080/"
        },
        "outputId": "4dfa57e6-b802-4781-a0ce-87652104f9ac"
      },
      "source": [
        "model.fit(X = df[['total_bill']], y= df['tip'])"
      ],
      "execution_count": 36,
      "outputs": [
        {
          "output_type": "execute_result",
          "data": {
            "text/plain": [
              "LinearRegression(copy_X=True, fit_intercept=True, n_jobs=None, normalize=False)"
            ]
          },
          "metadata": {
            "tags": []
          },
          "execution_count": 36
        }
      ]
    },
    {
      "cell_type": "markdown",
      "metadata": {
        "id": "PvHez025zRq6"
      },
      "source": [
        "Now that the model exists, we can look at the a_hat and b_hat values it found, which are given in the attributes intercept and coef, respectively."
      ]
    },
    {
      "cell_type": "code",
      "metadata": {
        "id": "AIOu0s7TzQ1n",
        "colab": {
          "base_uri": "https://localhost:8080/"
        },
        "outputId": "cec00dfd-3ca5-47b8-a18f-9e398be4dc91"
      },
      "source": [
        "model.coef_, model.intercept_"
      ],
      "execution_count": 37,
      "outputs": [
        {
          "output_type": "execute_result",
          "data": {
            "text/plain": [
              "(array([0.10502452]), 0.9202696135546731)"
            ]
          },
          "metadata": {
            "tags": []
          },
          "execution_count": 37
        }
      ]
    },
    {
      "cell_type": "markdown",
      "metadata": {
        "id": "Fe5xXCqTztfV"
      },
      "source": [
        "To use the `scikit-learn` linear regression model to make predictions, you can use the `model.predict` method:"
      ]
    },
    {
      "cell_type": "code",
      "metadata": {
        "id": "Nbyxyf4izv7h",
        "colab": {
          "base_uri": "https://localhost:8080/"
        },
        "outputId": "36d8fc33-560b-4120-8f37-c932a012c055"
      },
      "source": [
        "model.predict([[20]]) # 20 needs to be a 2D array since the X above was a 2D array."
      ],
      "execution_count": 38,
      "outputs": [
        {
          "output_type": "execute_result",
          "data": {
            "text/plain": [
              "array([3.02075996])"
            ]
          },
          "metadata": {
            "tags": []
          },
          "execution_count": 38
        }
      ]
    },
    {
      "cell_type": "markdown",
      "metadata": {
        "id": "4paWE8WP0Akf"
      },
      "source": [
        "The above line of code tells us that `model` predicts a tip of $\\$3.02$ given a total bill amount of $\\$20$. This is the same as in Question 2.c."
      ]
    },
    {
      "cell_type": "markdown",
      "metadata": {
        "id": "_czAC-OT0Nni"
      },
      "source": [
        "## Question 2.h (3 points)\n",
        "\n",
        "Create a linear regression plot using `model.predict`. It should look very similar (if not the same) as your plot from Question 2.d."
      ]
    },
    {
      "cell_type": "code",
      "metadata": {
        "id": "pS69PlAV0oFU",
        "colab": {
          "base_uri": "https://localhost:8080/",
          "height": 279
        },
        "outputId": "a366acaa-9ed7-49c5-d152-2e754acaa392"
      },
      "source": [
        "predicted_tip = np.array([model.predict([[x]]) for x in total_bills]) # type your code here\n",
        "sns.scatterplot(x='total_bill', y='tip', data=df)\n",
        "plt.plot(df[\"total_bill\"],  predicted_tip, color = 'r');"
      ],
      "execution_count": 39,
      "outputs": [
        {
          "output_type": "display_data",
          "data": {
            "image/png": "[encoded data removed]",
            "text/plain": [
              "<Figure size 432x288 with 1 Axes>"
            ]
          },
          "metadata": {
            "tags": [],
            "needs_background": "light"
          }
        }
      ]
    },
    {
      "cell_type": "markdown",
      "metadata": {
        "id": "RdWOHxengg2P"
      },
      "source": [
        "# Part III: Multiple Linear Regression\n",
        "\n",
        "First, we need to make sure the sklearn (scikit-learn) package that contains simple and efficient tools for data mining and data analysis is imported. Then, we load a data set from the sklearn.datasets as an example."
      ]
    },
    {
      "cell_type": "code",
      "metadata": {
        "id": "6lZzQoBsgg2P",
        "colab": {
          "base_uri": "https://localhost:8080/"
        },
        "outputId": "70301bd3-f693-49ae-dff7-a4c9ffb82f4e"
      },
      "source": [
        "import sklearn.datasets as mldata\n",
        "data_dict = mldata.load_boston()\n",
        "print(data_dict['DESCR'])"
      ],
      "execution_count": 40,
      "outputs": [
        {
          "output_type": "stream",
          "text": [
            ".. _boston_dataset:\n",
            "\n",
            "Boston house prices dataset\n",
            "---------------------------\n",
            "\n",
            "**Data Set Characteristics:**  \n",
            "\n",
            "    :Number of Instances: 506 \n",
            "\n",
            "    :Number of Attributes: 13 numeric/categorical predictive. Median Value (attribute 14) is usually the target.\n",
            "\n",
            "    :Attribute Information (in order):\n",
            "        - CRIM     per capita crime rate by town\n",
            "        - ZN       proportion of residential land zoned for lots over 25,000 sq.ft.\n",
            "        - INDUS    proportion of non-retail business acres per town\n",
            "        - CHAS     Charles River dummy variable (= 1 if tract bounds river; 0 otherwise)\n",
            "        - NOX      nitric oxides concentration (parts per 10 million)\n",
            "        - RM       average number of rooms per dwelling\n",
            "        - AGE      proportion of owner-occupied units built prior to 1940\n",
            "        - DIS      weighted distances to five Boston employment centres\n",
            "        - RAD      index of accessibility to radial highways\n",
            "        - TAX      full-value property-tax rate per $10,000\n",
            "        - PTRATIO  pupil-teacher ratio by town\n",
            "        - B        1000(Bk - 0.63)^2 where Bk is the proportion of blacks by town\n",
            "        - LSTAT    % lower status of the population\n",
            "        - MEDV     Median value of owner-occupied homes in $1000's\n",
            "\n",
            "    :Missing Attribute Values: None\n",
            "\n",
            "    :Creator: Harrison, D. and Rubinfeld, D.L.\n",
            "\n",
            "This is a copy of UCI ML housing dataset.\n",
            "https://archive.ics.uci.edu/ml/machine-learning-databases/housing/\n",
            "\n",
            "\n",
            "This dataset was taken from the StatLib library which is maintained at Carnegie Mellon University.\n",
            "\n",
            "The Boston house-price data of Harrison, D. and Rubinfeld, D.L. 'Hedonic\n",
            "prices and the demand for clean air', J. Environ. Economics & Management,\n",
            "vol.5, 81-102, 1978.   Used in Belsley, Kuh & Welsch, 'Regression diagnostics\n",
            "...', Wiley, 1980.   N.B. Various transformations are used in the table on\n",
            "pages 244-261 of the latter.\n",
            "\n",
            "The Boston house-price data has been used in many machine learning papers that address regression\n",
            "problems.   \n",
            "     \n",
            ".. topic:: References\n",
            "\n",
            "   - Belsley, Kuh & Welsch, 'Regression diagnostics: Identifying Influential Data and Sources of Collinearity', Wiley, 1980. 244-261.\n",
            "   - Quinlan,R. (1993). Combining Instance-Based and Model-Based Learning. In Proceedings on the Tenth International Conference of Machine Learning, 236-243, University of Massachusetts, Amherst. Morgan Kaufmann.\n",
            "\n"
          ],
          "name": "stdout"
        }
      ]
    },
    {
      "cell_type": "code",
      "metadata": {
        "id": "vdN4VMkcgg2Q",
        "colab": {
          "base_uri": "https://localhost:8080/",
          "height": 217
        },
        "outputId": "fc00767f-eba7-4241-940a-1a3e1249c11d"
      },
      "source": [
        "# translate the data_dict to dataframe and we aim to use all features for the regressor\n",
        "housing = pd.DataFrame(data_dict['data'], columns=data_dict['feature_names']) \n",
        "housing['MEDV'] = data_dict['target'] \n",
        "housing.head()"
      ],
      "execution_count": 41,
      "outputs": [
        {
          "output_type": "execute_result",
          "data": {
            "text/html": [
              "<div>\n",
              "<style scoped>\n",
              "    .dataframe tbody tr th:only-of-type {\n",
              "        vertical-align: middle;\n",
              "    }\n",
              "\n",
              "    .dataframe tbody tr th {\n",
              "        vertical-align: top;\n",
              "    }\n",
              "\n",
              "    .dataframe thead th {\n",
              "        text-align: right;\n",
              "    }\n",
              "</style>\n",
              "<table border=\"1\" class=\"dataframe\">\n",
              "  <thead>\n",
              "    <tr style=\"text-align: right;\">\n",
              "      <th></th>\n",
              "      <th>CRIM</th>\n",
              "      <th>ZN</th>\n",
              "      <th>INDUS</th>\n",
              "      <th>CHAS</th>\n",
              "      <th>NOX</th>\n",
              "      <th>RM</th>\n",
              "      <th>AGE</th>\n",
              "      <th>DIS</th>\n",
              "      <th>RAD</th>\n",
              "      <th>TAX</th>\n",
              "      <th>PTRATIO</th>\n",
              "      <th>B</th>\n",
              "      <th>LSTAT</th>\n",
              "      <th>MEDV</th>\n",
              "    </tr>\n",
              "  </thead>\n",
              "  <tbody>\n",
              "    <tr>\n",
              "      <th>0</th>\n",
              "      <td>0.00632</td>\n",
              "      <td>18.0</td>\n",
              "      <td>2.31</td>\n",
              "      <td>0.0</td>\n",
              "      <td>0.538</td>\n",
              "      <td>6.575</td>\n",
              "      <td>65.2</td>\n",
              "      <td>4.0900</td>\n",
              "      <td>1.0</td>\n",
              "      <td>296.0</td>\n",
              "      <td>15.3</td>\n",
              "      <td>396.90</td>\n",
              "      <td>4.98</td>\n",
              "      <td>24.0</td>\n",
              "    </tr>\n",
              "    <tr>\n",
              "      <th>1</th>\n",
              "      <td>0.02731</td>\n",
              "      <td>0.0</td>\n",
              "      <td>7.07</td>\n",
              "      <td>0.0</td>\n",
              "      <td>0.469</td>\n",
              "      <td>6.421</td>\n",
              "      <td>78.9</td>\n",
              "      <td>4.9671</td>\n",
              "      <td>2.0</td>\n",
              "      <td>242.0</td>\n",
              "      <td>17.8</td>\n",
              "      <td>396.90</td>\n",
              "      <td>9.14</td>\n",
              "      <td>21.6</td>\n",
              "    </tr>\n",
              "    <tr>\n",
              "      <th>2</th>\n",
              "      <td>0.02729</td>\n",
              "      <td>0.0</td>\n",
              "      <td>7.07</td>\n",
              "      <td>0.0</td>\n",
              "      <td>0.469</td>\n",
              "      <td>7.185</td>\n",
              "      <td>61.1</td>\n",
              "      <td>4.9671</td>\n",
              "      <td>2.0</td>\n",
              "      <td>242.0</td>\n",
              "      <td>17.8</td>\n",
              "      <td>392.83</td>\n",
              "      <td>4.03</td>\n",
              "      <td>34.7</td>\n",
              "    </tr>\n",
              "    <tr>\n",
              "      <th>3</th>\n",
              "      <td>0.03237</td>\n",
              "      <td>0.0</td>\n",
              "      <td>2.18</td>\n",
              "      <td>0.0</td>\n",
              "      <td>0.458</td>\n",
              "      <td>6.998</td>\n",
              "      <td>45.8</td>\n",
              "      <td>6.0622</td>\n",
              "      <td>3.0</td>\n",
              "      <td>222.0</td>\n",
              "      <td>18.7</td>\n",
              "      <td>394.63</td>\n",
              "      <td>2.94</td>\n",
              "      <td>33.4</td>\n",
              "    </tr>\n",
              "    <tr>\n",
              "      <th>4</th>\n",
              "      <td>0.06905</td>\n",
              "      <td>0.0</td>\n",
              "      <td>2.18</td>\n",
              "      <td>0.0</td>\n",
              "      <td>0.458</td>\n",
              "      <td>7.147</td>\n",
              "      <td>54.2</td>\n",
              "      <td>6.0622</td>\n",
              "      <td>3.0</td>\n",
              "      <td>222.0</td>\n",
              "      <td>18.7</td>\n",
              "      <td>396.90</td>\n",
              "      <td>5.33</td>\n",
              "      <td>36.2</td>\n",
              "    </tr>\n",
              "  </tbody>\n",
              "</table>\n",
              "</div>"
            ],
            "text/plain": [
              "      CRIM    ZN  INDUS  CHAS    NOX  ...    TAX  PTRATIO       B  LSTAT  MEDV\n",
              "0  0.00632  18.0   2.31   0.0  0.538  ...  296.0     15.3  396.90   4.98  24.0\n",
              "1  0.02731   0.0   7.07   0.0  0.469  ...  242.0     17.8  396.90   9.14  21.6\n",
              "2  0.02729   0.0   7.07   0.0  0.469  ...  242.0     17.8  392.83   4.03  34.7\n",
              "3  0.03237   0.0   2.18   0.0  0.458  ...  222.0     18.7  394.63   2.94  33.4\n",
              "4  0.06905   0.0   2.18   0.0  0.458  ...  222.0     18.7  396.90   5.33  36.2\n",
              "\n",
              "[5 rows x 14 columns]"
            ]
          },
          "metadata": {
            "tags": []
          },
          "execution_count": 41
        }
      ]
    },
    {
      "cell_type": "markdown",
      "metadata": {
        "id": "PbHG7GyS3SHd"
      },
      "source": [
        "Now we can conduct one train-test split."
      ]
    },
    {
      "cell_type": "code",
      "metadata": {
        "id": "MHf1LJ51gg2R",
        "colab": {
          "base_uri": "https://localhost:8080/"
        },
        "outputId": "7efcaf02-172b-443d-fd6a-422e1ea632cf"
      },
      "source": [
        "from sklearn.model_selection import train_test_split \n",
        "train, test = train_test_split(housing, test_size=0.25, random_state=100)\n",
        "x_train = train.drop('MEDV', axis=1).values\n",
        "y_train = train['MEDV'].values\n",
        "x_test = test.drop('MEDV', axis=1).values\n",
        "y_test = test['MEDV'].values\n",
        "\n",
        "print(\"Training Data Size: \", len(train))\n",
        "print(\"Test Data Size: \", len(test))"
      ],
      "execution_count": 42,
      "outputs": [
        {
          "output_type": "stream",
          "text": [
            "Training Data Size:  379\n",
            "Test Data Size:  127\n"
          ],
          "name": "stdout"
        }
      ]
    },
    {
      "cell_type": "markdown",
      "metadata": {
        "id": "rxg6lfuX3f9Z"
      },
      "source": [
        "The training data can be used to fit a LinearRegression model as follows."
      ]
    },
    {
      "cell_type": "code",
      "metadata": {
        "id": "AyaEDXHOgg2R",
        "colab": {
          "base_uri": "https://localhost:8080/"
        },
        "outputId": "efdafaca-1d13-4e07-c03e-7b24403c7edb"
      },
      "source": [
        "linear_model = LinearRegression(fit_intercept=True)\n",
        "linear_model.fit(x_train, y_train)"
      ],
      "execution_count": 43,
      "outputs": [
        {
          "output_type": "execute_result",
          "data": {
            "text/plain": [
              "LinearRegression(copy_X=True, fit_intercept=True, n_jobs=None, normalize=False)"
            ]
          },
          "metadata": {
            "tags": []
          },
          "execution_count": 43
        }
      ]
    },
    {
      "cell_type": "code",
      "metadata": {
        "id": "_iehWHovgg2R",
        "colab": {
          "base_uri": "https://localhost:8080/"
        },
        "outputId": "89113121-0d32-43cf-b8d1-be982bd0da49"
      },
      "source": [
        "from sklearn.metrics import mean_squared_error\n",
        "y_train_pred = linear_model.predict(x_train)\n",
        "mean_squared_error(y_train, y_train_pred)"
      ],
      "execution_count": 44,
      "outputs": [
        {
          "output_type": "execute_result",
          "data": {
            "text/plain": [
              "20.506781668028975"
            ]
          },
          "metadata": {
            "tags": []
          },
          "execution_count": 44
        }
      ]
    },
    {
      "cell_type": "code",
      "metadata": {
        "id": "qQukfIaigg2S",
        "colab": {
          "base_uri": "https://localhost:8080/"
        },
        "outputId": "8eeaecf3-410f-41d4-b514-b6a6e0ab9413"
      },
      "source": [
        "y_test_pred = linear_model.predict(x_test)\n",
        "mean_squared_error(y_test, y_test_pred)"
      ],
      "execution_count": 45,
      "outputs": [
        {
          "output_type": "execute_result",
          "data": {
            "text/plain": [
              "27.173144173043553"
            ]
          },
          "metadata": {
            "tags": []
          },
          "execution_count": 45
        }
      ]
    },
    {
      "cell_type": "markdown",
      "metadata": {
        "id": "ZP9BUKZihHXq"
      },
      "source": [
        "# Part IV: Classification Big Question\n",
        "\n",
        "In this question, you are required to use the following data to fit a classification model and evaluate its performance using one train-test split as the multiple linear regression example above."
      ]
    },
    {
      "cell_type": "code",
      "metadata": {
        "id": "JbaZUWfxhHXq",
        "colab": {
          "base_uri": "https://localhost:8080/"
        },
        "outputId": "29b327ff-124f-43ca-a9e9-8953ca87d63a"
      },
      "source": [
        "data_dict = mldata.load_breast_cancer() #load the data\n",
        "print(data_dict['DESCR']) #Please carefully understand the data"
      ],
      "execution_count": 46,
      "outputs": [
        {
          "output_type": "stream",
          "text": [
            ".. _breast_cancer_dataset:\n",
            "\n",
            "Breast cancer wisconsin (diagnostic) dataset\n",
            "--------------------------------------------\n",
            "\n",
            "**Data Set Characteristics:**\n",
            "\n",
            "    :Number of Instances: 569\n",
            "\n",
            "    :Number of Attributes: 30 numeric, predictive attributes and the class\n",
            "\n",
            "    :Attribute Information:\n",
            "        - radius (mean of distances from center to points on the perimeter)\n",
            "        - texture (standard deviation of gray-scale values)\n",
            "        - perimeter\n",
            "        - area\n",
            "        - smoothness (local variation in radius lengths)\n",
            "        - compactness (perimeter^2 / area - 1.0)\n",
            "        - concavity (severity of concave portions of the contour)\n",
            "        - concave points (number of concave portions of the contour)\n",
            "        - symmetry \n",
            "        - fractal dimension (\"coastline approximation\" - 1)\n",
            "\n",
            "        The mean, standard error, and \"worst\" or largest (mean of the three\n",
            "        largest values) of these features were computed for each image,\n",
            "        resulting in 30 features.  For instance, field 3 is Mean Radius, field\n",
            "        13 is Radius SE, field 23 is Worst Radius.\n",
            "\n",
            "        - class:\n",
            "                - WDBC-Malignant\n",
            "                - WDBC-Benign\n",
            "\n",
            "    :Summary Statistics:\n",
            "\n",
            "    ===================================== ====== ======\n",
            "                                           Min    Max\n",
            "    ===================================== ====== ======\n",
            "    radius (mean):                        6.981  28.11\n",
            "    texture (mean):                       9.71   39.28\n",
            "    perimeter (mean):                     43.79  188.5\n",
            "    area (mean):                          143.5  2501.0\n",
            "    smoothness (mean):                    0.053  0.163\n",
            "    compactness (mean):                   0.019  0.345\n",
            "    concavity (mean):                     0.0    0.427\n",
            "    concave points (mean):                0.0    0.201\n",
            "    symmetry (mean):                      0.106  0.304\n",
            "    fractal dimension (mean):             0.05   0.097\n",
            "    radius (standard error):              0.112  2.873\n",
            "    texture (standard error):             0.36   4.885\n",
            "    perimeter (standard error):           0.757  21.98\n",
            "    area (standard error):                6.802  542.2\n",
            "    smoothness (standard error):          0.002  0.031\n",
            "    compactness (standard error):         0.002  0.135\n",
            "    concavity (standard error):           0.0    0.396\n",
            "    concave points (standard error):      0.0    0.053\n",
            "    symmetry (standard error):            0.008  0.079\n",
            "    fractal dimension (standard error):   0.001  0.03\n",
            "    radius (worst):                       7.93   36.04\n",
            "    texture (worst):                      12.02  49.54\n",
            "    perimeter (worst):                    50.41  251.2\n",
            "    area (worst):                         185.2  4254.0\n",
            "    smoothness (worst):                   0.071  0.223\n",
            "    compactness (worst):                  0.027  1.058\n",
            "    concavity (worst):                    0.0    1.252\n",
            "    concave points (worst):               0.0    0.291\n",
            "    symmetry (worst):                     0.156  0.664\n",
            "    fractal dimension (worst):            0.055  0.208\n",
            "    ===================================== ====== ======\n",
            "\n",
            "    :Missing Attribute Values: None\n",
            "\n",
            "    :Class Distribution: 212 - Malignant, 357 - Benign\n",
            "\n",
            "    :Creator:  Dr. William H. Wolberg, W. Nick Street, Olvi L. Mangasarian\n",
            "\n",
            "    :Donor: Nick Street\n",
            "\n",
            "    :Date: November, 1995\n",
            "\n",
            "This is a copy of UCI ML Breast Cancer Wisconsin (Diagnostic) datasets.\n",
            "https://goo.gl/U2Uwz2\n",
            "\n",
            "Features are computed from a digitized image of a fine needle\n",
            "aspirate (FNA) of a breast mass.  They describe\n",
            "characteristics of the cell nuclei present in the image.\n",
            "\n",
            "Separating plane described above was obtained using\n",
            "Multisurface Method-Tree (MSM-T) [K. P. Bennett, \"Decision Tree\n",
            "Construction Via Linear Programming.\" Proceedings of the 4th\n",
            "Midwest Artificial Intelligence and Cognitive Science Society,\n",
            "pp. 97-101, 1992], a classification method which uses linear\n",
            "programming to construct a decision tree.  Relevant features\n",
            "were selected using an exhaustive search in the space of 1-4\n",
            "features and 1-3 separating planes.\n",
            "\n",
            "The actual linear program used to obtain the separating plane\n",
            "in the 3-dimensional space is that described in:\n",
            "[K. P. Bennett and O. L. Mangasarian: \"Robust Linear\n",
            "Programming Discrimination of Two Linearly Inseparable Sets\",\n",
            "Optimization Methods and Software 1, 1992, 23-34].\n",
            "\n",
            "This database is also available through the UW CS ftp server:\n",
            "\n",
            "ftp ftp.cs.wisc.edu\n",
            "cd math-prog/cpo-dataset/machine-learn/WDBC/\n",
            "\n",
            ".. topic:: References\n",
            "\n",
            "   - W.N. Street, W.H. Wolberg and O.L. Mangasarian. Nuclear feature extraction \n",
            "     for breast tumor diagnosis. IS&T/SPIE 1993 International Symposium on \n",
            "     Electronic Imaging: Science and Technology, volume 1905, pages 861-870,\n",
            "     San Jose, CA, 1993.\n",
            "   - O.L. Mangasarian, W.N. Street and W.H. Wolberg. Breast cancer diagnosis and \n",
            "     prognosis via linear programming. Operations Research, 43(4), pages 570-577, \n",
            "     July-August 1995.\n",
            "   - W.H. Wolberg, W.N. Street, and O.L. Mangasarian. Machine learning techniques\n",
            "     to diagnose breast cancer from fine-needle aspirates. Cancer Letters 77 (1994) \n",
            "     163-171.\n"
          ],
          "name": "stdout"
        }
      ]
    },
    {
      "cell_type": "markdown",
      "metadata": {
        "id": "lnlMejjR7sVc"
      },
      "source": [
        "## Question 4.a (3 points)\n",
        "\n",
        "Translate the data_dict to dataframe, prepare for the target, and use head to show some examples"
      ]
    },
    {
      "cell_type": "code",
      "metadata": {
        "id": "gd_5VD1FhHXq",
        "colab": {
          "base_uri": "https://localhost:8080/",
          "height": 251
        },
        "outputId": "7482d302-9e77-488c-996a-8e1aefbf8fe2"
      },
      "source": [
        "dataset = pd.DataFrame(data_dict['data'], columns=data_dict['feature_names']) \n",
        "dataset['WDBC'] = data_dict['target']\n",
        "dataset.head()"
      ],
      "execution_count": 47,
      "outputs": [
        {
          "output_type": "execute_result",
          "data": {
            "text/html": [
              "<div>\n",
              "<style scoped>\n",
              "    .dataframe tbody tr th:only-of-type {\n",
              "        vertical-align: middle;\n",
              "    }\n",
              "\n",
              "    .dataframe tbody tr th {\n",
              "        vertical-align: top;\n",
              "    }\n",
              "\n",
              "    .dataframe thead th {\n",
              "        text-align: right;\n",
              "    }\n",
              "</style>\n",
              "<table border=\"1\" class=\"dataframe\">\n",
              "  <thead>\n",
              "    <tr style=\"text-align: right;\">\n",
              "      <th></th>\n",
              "      <th>mean radius</th>\n",
              "      <th>mean texture</th>\n",
              "      <th>mean perimeter</th>\n",
              "      <th>mean area</th>\n",
              "      <th>mean smoothness</th>\n",
              "      <th>mean compactness</th>\n",
              "      <th>mean concavity</th>\n",
              "      <th>mean concave points</th>\n",
              "      <th>mean symmetry</th>\n",
              "      <th>mean fractal dimension</th>\n",
              "      <th>radius error</th>\n",
              "      <th>texture error</th>\n",
              "      <th>perimeter error</th>\n",
              "      <th>area error</th>\n",
              "      <th>smoothness error</th>\n",
              "      <th>compactness error</th>\n",
              "      <th>concavity error</th>\n",
              "      <th>concave points error</th>\n",
              "      <th>symmetry error</th>\n",
              "      <th>fractal dimension error</th>\n",
              "      <th>worst radius</th>\n",
              "      <th>worst texture</th>\n",
              "      <th>worst perimeter</th>\n",
              "      <th>worst area</th>\n",
              "      <th>worst smoothness</th>\n",
              "      <th>worst compactness</th>\n",
              "      <th>worst concavity</th>\n",
              "      <th>worst concave points</th>\n",
              "      <th>worst symmetry</th>\n",
              "      <th>worst fractal dimension</th>\n",
              "      <th>WDBC</th>\n",
              "    </tr>\n",
              "  </thead>\n",
              "  <tbody>\n",
              "    <tr>\n",
              "      <th>0</th>\n",
              "      <td>17.99</td>\n",
              "      <td>10.38</td>\n",
              "      <td>122.80</td>\n",
              "      <td>1001.0</td>\n",
              "      <td>0.11840</td>\n",
              "      <td>0.27760</td>\n",
              "      <td>0.3001</td>\n",
              "      <td>0.14710</td>\n",
              "      <td>0.2419</td>\n",
              "      <td>0.07871</td>\n",
              "      <td>1.0950</td>\n",
              "      <td>0.9053</td>\n",
              "      <td>8.589</td>\n",
              "      <td>153.40</td>\n",
              "      <td>0.006399</td>\n",
              "      <td>0.04904</td>\n",
              "      <td>0.05373</td>\n",
              "      <td>0.01587</td>\n",
              "      <td>0.03003</td>\n",
              "      <td>0.006193</td>\n",
              "      <td>25.38</td>\n",
              "      <td>17.33</td>\n",
              "      <td>184.60</td>\n",
              "      <td>2019.0</td>\n",
              "      <td>0.1622</td>\n",
              "      <td>0.6656</td>\n",
              "      <td>0.7119</td>\n",
              "      <td>0.2654</td>\n",
              "      <td>0.4601</td>\n",
              "      <td>0.11890</td>\n",
              "      <td>0</td>\n",
              "    </tr>\n",
              "    <tr>\n",
              "      <th>1</th>\n",
              "      <td>20.57</td>\n",
              "      <td>17.77</td>\n",
              "      <td>132.90</td>\n",
              "      <td>1326.0</td>\n",
              "      <td>0.08474</td>\n",
              "      <td>0.07864</td>\n",
              "      <td>0.0869</td>\n",
              "      <td>0.07017</td>\n",
              "      <td>0.1812</td>\n",
              "      <td>0.05667</td>\n",
              "      <td>0.5435</td>\n",
              "      <td>0.7339</td>\n",
              "      <td>3.398</td>\n",
              "      <td>74.08</td>\n",
              "      <td>0.005225</td>\n",
              "      <td>0.01308</td>\n",
              "      <td>0.01860</td>\n",
              "      <td>0.01340</td>\n",
              "      <td>0.01389</td>\n",
              "      <td>0.003532</td>\n",
              "      <td>24.99</td>\n",
              "      <td>23.41</td>\n",
              "      <td>158.80</td>\n",
              "      <td>1956.0</td>\n",
              "      <td>0.1238</td>\n",
              "      <td>0.1866</td>\n",
              "      <td>0.2416</td>\n",
              "      <td>0.1860</td>\n",
              "      <td>0.2750</td>\n",
              "      <td>0.08902</td>\n",
              "      <td>0</td>\n",
              "    </tr>\n",
              "    <tr>\n",
              "      <th>2</th>\n",
              "      <td>19.69</td>\n",
              "      <td>21.25</td>\n",
              "      <td>130.00</td>\n",
              "      <td>1203.0</td>\n",
              "      <td>0.10960</td>\n",
              "      <td>0.15990</td>\n",
              "      <td>0.1974</td>\n",
              "      <td>0.12790</td>\n",
              "      <td>0.2069</td>\n",
              "      <td>0.05999</td>\n",
              "      <td>0.7456</td>\n",
              "      <td>0.7869</td>\n",
              "      <td>4.585</td>\n",
              "      <td>94.03</td>\n",
              "      <td>0.006150</td>\n",
              "      <td>0.04006</td>\n",
              "      <td>0.03832</td>\n",
              "      <td>0.02058</td>\n",
              "      <td>0.02250</td>\n",
              "      <td>0.004571</td>\n",
              "      <td>23.57</td>\n",
              "      <td>25.53</td>\n",
              "      <td>152.50</td>\n",
              "      <td>1709.0</td>\n",
              "      <td>0.1444</td>\n",
              "      <td>0.4245</td>\n",
              "      <td>0.4504</td>\n",
              "      <td>0.2430</td>\n",
              "      <td>0.3613</td>\n",
              "      <td>0.08758</td>\n",
              "      <td>0</td>\n",
              "    </tr>\n",
              "    <tr>\n",
              "      <th>3</th>\n",
              "      <td>11.42</td>\n",
              "      <td>20.38</td>\n",
              "      <td>77.58</td>\n",
              "      <td>386.1</td>\n",
              "      <td>0.14250</td>\n",
              "      <td>0.28390</td>\n",
              "      <td>0.2414</td>\n",
              "      <td>0.10520</td>\n",
              "      <td>0.2597</td>\n",
              "      <td>0.09744</td>\n",
              "      <td>0.4956</td>\n",
              "      <td>1.1560</td>\n",
              "      <td>3.445</td>\n",
              "      <td>27.23</td>\n",
              "      <td>0.009110</td>\n",
              "      <td>0.07458</td>\n",
              "      <td>0.05661</td>\n",
              "      <td>0.01867</td>\n",
              "      <td>0.05963</td>\n",
              "      <td>0.009208</td>\n",
              "      <td>14.91</td>\n",
              "      <td>26.50</td>\n",
              "      <td>98.87</td>\n",
              "      <td>567.7</td>\n",
              "      <td>0.2098</td>\n",
              "      <td>0.8663</td>\n",
              "      <td>0.6869</td>\n",
              "      <td>0.2575</td>\n",
              "      <td>0.6638</td>\n",
              "      <td>0.17300</td>\n",
              "      <td>0</td>\n",
              "    </tr>\n",
              "    <tr>\n",
              "      <th>4</th>\n",
              "      <td>20.29</td>\n",
              "      <td>14.34</td>\n",
              "      <td>135.10</td>\n",
              "      <td>1297.0</td>\n",
              "      <td>0.10030</td>\n",
              "      <td>0.13280</td>\n",
              "      <td>0.1980</td>\n",
              "      <td>0.10430</td>\n",
              "      <td>0.1809</td>\n",
              "      <td>0.05883</td>\n",
              "      <td>0.7572</td>\n",
              "      <td>0.7813</td>\n",
              "      <td>5.438</td>\n",
              "      <td>94.44</td>\n",
              "      <td>0.011490</td>\n",
              "      <td>0.02461</td>\n",
              "      <td>0.05688</td>\n",
              "      <td>0.01885</td>\n",
              "      <td>0.01756</td>\n",
              "      <td>0.005115</td>\n",
              "      <td>22.54</td>\n",
              "      <td>16.67</td>\n",
              "      <td>152.20</td>\n",
              "      <td>1575.0</td>\n",
              "      <td>0.1374</td>\n",
              "      <td>0.2050</td>\n",
              "      <td>0.4000</td>\n",
              "      <td>0.1625</td>\n",
              "      <td>0.2364</td>\n",
              "      <td>0.07678</td>\n",
              "      <td>0</td>\n",
              "    </tr>\n",
              "  </tbody>\n",
              "</table>\n",
              "</div>"
            ],
            "text/plain": [
              "   mean radius  mean texture  ...  worst fractal dimension  WDBC\n",
              "0        17.99         10.38  ...                  0.11890     0\n",
              "1        20.57         17.77  ...                  0.08902     0\n",
              "2        19.69         21.25  ...                  0.08758     0\n",
              "3        11.42         20.38  ...                  0.17300     0\n",
              "4        20.29         14.34  ...                  0.07678     0\n",
              "\n",
              "[5 rows x 31 columns]"
            ]
          },
          "metadata": {
            "tags": []
          },
          "execution_count": 47
        }
      ]
    },
    {
      "cell_type": "markdown",
      "metadata": {
        "id": "a2FICMQd8e8S"
      },
      "source": [
        "## Question 4.b (5 points)\n",
        "\n",
        "Obtain one train-test split and train a LogisticRegression model (**this is a classification model**) using the training data."
      ]
    },
    {
      "cell_type": "code",
      "metadata": {
        "id": "cpYz22ZfhHXr",
        "colab": {
          "base_uri": "https://localhost:8080/"
        },
        "outputId": "b6898a95-3464-4cc8-b8de-72269ec36ef1"
      },
      "source": [
        "train, test = train_test_split(dataset, test_size=0.25, random_state=100)\n",
        "x_train = train.drop('WDBC', axis=1).values\n",
        "y_train = train['WDBC'].values\n",
        "x_test = test.drop('WDBC', axis=1).values\n",
        "y_test = test['WDBC'].values\n",
        "\n",
        "print(\"Training Data Size: \", len(train))\n",
        "print(\"Test Data Size: \", len(test))\n",
        "\n",
        "from sklearn.linear_model import LogisticRegression\n",
        "regression = LogisticRegression(fit_intercept=True, max_iter=2000)\n",
        "regression.fit(x_train, y_train)\n",
        "\n",
        "y_train_pred = regression.predict(x_train)\n",
        "mean_squared_error(y_train, y_train_pred)"
      ],
      "execution_count": 54,
      "outputs": [
        {
          "output_type": "stream",
          "text": [
            "Training Data Size:  426\n",
            "Test Data Size:  143\n"
          ],
          "name": "stdout"
        },
        {
          "output_type": "execute_result",
          "data": {
            "text/plain": [
              "0.04225352112676056"
            ]
          },
          "metadata": {
            "tags": []
          },
          "execution_count": 54
        }
      ]
    },
    {
      "cell_type": "markdown",
      "metadata": {
        "id": "TDndsYrY9Dgs"
      },
      "source": [
        "## Question 4.c (5 points)\n",
        "\n",
        "Evaluate and print the accuracy (**accuracy in classification is different from error in regression, please study how**) of the trained model for both the training data and test data."
      ]
    },
    {
      "cell_type": "code",
      "metadata": {
        "id": "qgyxt36v6lqi",
        "colab": {
          "base_uri": "https://localhost:8080/"
        },
        "outputId": "01bf065a-ef28-4eb0-ad3a-290a72f69dc2"
      },
      "source": [
        "#Retrieves the error\n",
        "y_test_pred = regression.predict(x_test)\n",
        "mean_squared_error(y_test, y_test_pred)\n",
        "\n",
        "#Retrieves the regression score\n",
        "from sklearn.metrics import r2_score, accuracy_score\n",
        "accuracy_train = r2_score(y_train, y_train_pred)\n",
        "accuracy_test = r2_score(y_test, y_test_pred)\n",
        "print(\"Train accuracy: \" + str(accuracy_train * 100) + \"%\")\n",
        "print(\"Test accuracy: \" + str(accuracy_test * 100) + \"%\")"
      ],
      "execution_count": 59,
      "outputs": [
        {
          "output_type": "stream",
          "text": [
            "Train accuracy: 81.7948717948718%\n",
            "Test accuracy: 85.32430213464697%\n"
          ],
          "name": "stdout"
        }
      ]
    },
    {
      "cell_type": "code",
      "metadata": {
        "colab": {
          "base_uri": "https://localhost:8080/"
        },
        "id": "0w3pS4Q9O1oE",
        "outputId": "449b940d-afaf-43b4-fdeb-f93969e527f2"
      },
      "source": [
        "#Retrieves the accuracy score\n",
        "accuracy_train = accuracy_score(y_train, y_train_pred)\n",
        "accuracy_test = accuracy_score(y_test, y_test_pred)\n",
        "print(\"Train accuracy: \" + str(accuracy_train * 100) + \"%\")\n",
        "print(\"Test accuracy: \" + str(accuracy_test * 100) + \"%\")"
      ],
      "execution_count": 58,
      "outputs": [
        {
          "output_type": "stream",
          "text": [
            "Train accuracy: 95.77464788732394%\n",
            "Test accuracy: 96.5034965034965%\n"
          ],
          "name": "stdout"
        }
      ]
    },
    {
      "cell_type": "markdown",
      "metadata": {
        "id": "mAKWV4ul-Vzk"
      },
      "source": [
        "**Before you submit, please restart, run all, and carefully check to have a good submission.**"
      ]
    }
  ]
}